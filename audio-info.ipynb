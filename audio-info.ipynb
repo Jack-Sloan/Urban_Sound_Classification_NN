{
 "cells": [
  {
   "cell_type": "code",
   "execution_count": 15,
   "id": "2c81344d-bb59-4552-8729-1f7cd2b1c735",
   "metadata": {},
   "outputs": [],
   "source": [
    "import os\n",
    "import subprocess\n",
    "import pandas as pd\n",
    "from pydub.utils import mediainfo\n",
    "\n",
    "gen_folder_path = '/Users/jacksloan/ML_Projects/urban_sound_classification/us8k/UrbanSound8k/UrbanSound8k/audio_cleaned/fold'\n",
    "#gen_folder_path = '/Users/jacksloan/ML_Projects/urban_sound_classification/audio_cleaned/fold'\n"
   ]
  },
  {
   "cell_type": "code",
   "execution_count": 16,
   "id": "099afb25-2081-42c6-93aa-7ed70877c9f7",
   "metadata": {},
   "outputs": [],
   "source": [
    "def get_volume_info(file_path):\n",
    "    command = [\"ffmpeg\", \"-i\", file_path, \"-af\", \"volumedetect\", \"-f\", \"null\", \"-\"]\n",
    "\n",
    "    result = subprocess.run(command, capture_output=True, text=True)\n",
    "    output = result.stderr\n",
    "\n",
    "    mean_volume = None\n",
    "\n",
    "    test_arr = [0, 0, 0]\n",
    "    for line in output.splitlines():\n",
    "            if \"mean_volume\" in line:\n",
    "                mean_volume = float(line.split(\":\")[1].strip().replace(\" dB\", \"\"))\n",
    "\n",
    "    return mean_volume\n"
   ]
  },
  {
   "cell_type": "code",
   "execution_count": 17,
   "id": "bed028f8-073e-46dd-b06b-54d78a79f518",
   "metadata": {},
   "outputs": [
    {
     "ename": "KeyboardInterrupt",
     "evalue": "",
     "output_type": "error",
     "traceback": [
      "\u001b[0;31m---------------------------------------------------------------------------\u001b[0m",
      "\u001b[0;31mKeyboardInterrupt\u001b[0m                         Traceback (most recent call last)",
      "Cell \u001b[0;32mIn[17], line 8\u001b[0m\n\u001b[1;32m      5\u001b[0m \u001b[38;5;28;01mif\u001b[39;00m filename\u001b[38;5;241m.\u001b[39mendswith(\u001b[38;5;124m\"\u001b[39m\u001b[38;5;124m.wav\u001b[39m\u001b[38;5;124m\"\u001b[39m):\n\u001b[1;32m      6\u001b[0m     file_path \u001b[38;5;241m=\u001b[39m os\u001b[38;5;241m.\u001b[39mpath\u001b[38;5;241m.\u001b[39mjoin(folder_path, filename)\n\u001b[0;32m----> 8\u001b[0m     info \u001b[38;5;241m=\u001b[39m \u001b[43mmediainfo\u001b[49m\u001b[43m(\u001b[49m\u001b[43mfile_path\u001b[49m\u001b[43m)\u001b[49m\n\u001b[1;32m     10\u001b[0m     sampling_rate \u001b[38;5;241m=\u001b[39m info[\u001b[38;5;124m\"\u001b[39m\u001b[38;5;124msample_rate\u001b[39m\u001b[38;5;124m\"\u001b[39m]\n\u001b[1;32m     11\u001b[0m     bit_depth \u001b[38;5;241m=\u001b[39m info[\u001b[38;5;124m\"\u001b[39m\u001b[38;5;124mbits_per_sample\u001b[39m\u001b[38;5;124m\"\u001b[39m]\n",
      "File \u001b[0;32m/Library/Frameworks/Python.framework/Versions/3.11/lib/python3.11/site-packages/pydub/utils.py:335\u001b[0m, in \u001b[0;36mmediainfo\u001b[0;34m(filepath)\u001b[0m\n\u001b[1;32m    333\u001b[0m command \u001b[38;5;241m=\u001b[39m [prober, \u001b[38;5;124m'\u001b[39m\u001b[38;5;124m-of\u001b[39m\u001b[38;5;124m'\u001b[39m, \u001b[38;5;124m'\u001b[39m\u001b[38;5;124mold\u001b[39m\u001b[38;5;124m'\u001b[39m] \u001b[38;5;241m+\u001b[39m command_args\n\u001b[1;32m    334\u001b[0m res \u001b[38;5;241m=\u001b[39m Popen(command, stdout\u001b[38;5;241m=\u001b[39mPIPE)\n\u001b[0;32m--> 335\u001b[0m output \u001b[38;5;241m=\u001b[39m \u001b[43mres\u001b[49m\u001b[38;5;241;43m.\u001b[39;49m\u001b[43mcommunicate\u001b[49m\u001b[43m(\u001b[49m\u001b[43m)\u001b[49m[\u001b[38;5;241m0\u001b[39m]\u001b[38;5;241m.\u001b[39mdecode(\u001b[38;5;124m\"\u001b[39m\u001b[38;5;124mutf-8\u001b[39m\u001b[38;5;124m\"\u001b[39m)\n\u001b[1;32m    337\u001b[0m \u001b[38;5;28;01mif\u001b[39;00m res\u001b[38;5;241m.\u001b[39mreturncode \u001b[38;5;241m!=\u001b[39m \u001b[38;5;241m0\u001b[39m:\n\u001b[1;32m    338\u001b[0m     command \u001b[38;5;241m=\u001b[39m [prober] \u001b[38;5;241m+\u001b[39m command_args\n",
      "File \u001b[0;32m/Library/Frameworks/Python.framework/Versions/3.11/lib/python3.11/subprocess.py:1194\u001b[0m, in \u001b[0;36mPopen.communicate\u001b[0;34m(self, input, timeout)\u001b[0m\n\u001b[1;32m   1192\u001b[0m     \u001b[38;5;28mself\u001b[39m\u001b[38;5;241m.\u001b[39m_stdin_write(\u001b[38;5;28minput\u001b[39m)\n\u001b[1;32m   1193\u001b[0m \u001b[38;5;28;01melif\u001b[39;00m \u001b[38;5;28mself\u001b[39m\u001b[38;5;241m.\u001b[39mstdout:\n\u001b[0;32m-> 1194\u001b[0m     stdout \u001b[38;5;241m=\u001b[39m \u001b[38;5;28mself\u001b[39m\u001b[38;5;241m.\u001b[39mstdout\u001b[38;5;241m.\u001b[39mread()\n\u001b[1;32m   1195\u001b[0m     \u001b[38;5;28mself\u001b[39m\u001b[38;5;241m.\u001b[39mstdout\u001b[38;5;241m.\u001b[39mclose()\n\u001b[1;32m   1196\u001b[0m \u001b[38;5;28;01melif\u001b[39;00m \u001b[38;5;28mself\u001b[39m\u001b[38;5;241m.\u001b[39mstderr:\n",
      "\u001b[0;31mKeyboardInterrupt\u001b[0m: "
     ]
    }
   ],
   "source": [
    "data = []\n",
    "for i in range(1, 11):\n",
    "    folder_path = f\"{gen_folder_path}{i}\"\n",
    "    for filename in os.listdir(folder_path):\n",
    "        if filename.endswith(\".wav\"):\n",
    "            file_path = os.path.join(folder_path, filename)\n",
    "            \n",
    "            info = mediainfo(file_path)\n",
    "\n",
    "            sampling_rate = info[\"sample_rate\"]\n",
    "            bit_depth = info[\"bits_per_sample\"]\n",
    "            \n",
    "            volume_data = get_volume_info(file_path)\n",
    "    \n",
    "            data.append([filename, f\"Folder {i}\", sampling_rate, bit_depth, volume_data])\n",
    "\n",
    "df = pd.DataFrame(data, columns=[\"Filename\", \"Folder\", \"Sampling Rate\", \"Bit Depth\", \"Mean Volume\"])\n",
    "\n",
    "output_file = \"/Users/jacksloan/ML_Projects/urban_sound_classification/Audio_Metadata_1.xlsx\"\n",
    "df.to_excel(output_file, index=False)\n",
    "\n",
    "print(f\"Data successfully exported to {output_file}\")"
   ]
  }
 ],
 "metadata": {
  "kernelspec": {
   "display_name": "Python 3 (ipykernel)",
   "language": "python",
   "name": "python3"
  },
  "language_info": {
   "codemirror_mode": {
    "name": "ipython",
    "version": 3
   },
   "file_extension": ".py",
   "mimetype": "text/x-python",
   "name": "python",
   "nbconvert_exporter": "python",
   "pygments_lexer": "ipython3",
   "version": "3.11.1"
  }
 },
 "nbformat": 4,
 "nbformat_minor": 5
}
